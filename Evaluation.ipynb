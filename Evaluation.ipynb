{
 "cells": [
  {
   "cell_type": "markdown",
   "metadata": {},
   "source": [
    "Méthodes d'ensemble\n",
    "==================="
   ]
  },
  {
   "cell_type": "markdown",
   "metadata": {},
   "source": [
    "## Preamble\n",
    "\n"
   ]
  },
  {
   "cell_type": "markdown",
   "metadata": {},
   "source": [
    "### Imports\n",
    "\n"
   ]
  },
  {
   "cell_type": "code",
   "execution_count": 1,
   "metadata": {},
   "outputs": [],
   "source": [
    "%matplotlib inline\n",
    "\n",
    "import pandas as pd\n",
    "import numpy as np\n",
    "import matplotlib.pyplot as plt\n",
    "import pickle\n",
    "\n",
    "from sklearn.ensemble import RandomForestRegressor\n",
    "from sklearn.metrics import r2_score, mean_absolute_error, mean_squared_error, mean_squared_log_error"
   ]
  },
  {
   "cell_type": "markdown",
   "metadata": {},
   "source": [
    "### Functions\n",
    "\n"
   ]
  },
  {
   "cell_type": "code",
   "execution_count": 2,
   "metadata": {},
   "outputs": [],
   "source": [
    "# Display all\n",
    "def display_all(df):\n",
    "    with pd.option_context(\"display.max_rows\", 100, \"display.max_columns\", 100): \n",
    "        display(df)"
   ]
  },
  {
   "cell_type": "markdown",
   "metadata": {},
   "source": [
    "## Evaluation\n",
    "\n"
   ]
  },
  {
   "cell_type": "markdown",
   "metadata": {},
   "source": [
    "### Load Data\n",
    "\n"
   ]
  },
  {
   "cell_type": "code",
   "execution_count": 3,
   "metadata": {},
   "outputs": [
    {
     "data": {
      "text/html": [
       "<div>\n",
       "<style scoped>\n",
       "    .dataframe tbody tr th:only-of-type {\n",
       "        vertical-align: middle;\n",
       "    }\n",
       "\n",
       "    .dataframe tbody tr th {\n",
       "        vertical-align: top;\n",
       "    }\n",
       "\n",
       "    .dataframe thead th {\n",
       "        text-align: right;\n",
       "    }\n",
       "</style>\n",
       "<table border=\"1\" class=\"dataframe\">\n",
       "  <thead>\n",
       "    <tr style=\"text-align: right;\">\n",
       "      <th></th>\n",
       "      <th>count</th>\n",
       "      <th>mean</th>\n",
       "      <th>std</th>\n",
       "      <th>min</th>\n",
       "      <th>25%</th>\n",
       "      <th>50%</th>\n",
       "      <th>75%</th>\n",
       "      <th>max</th>\n",
       "    </tr>\n",
       "  </thead>\n",
       "  <tbody>\n",
       "    <tr>\n",
       "      <th>MedInc</th>\n",
       "      <td>4128.0</td>\n",
       "      <td>3.860883</td>\n",
       "      <td>1.900961</td>\n",
       "      <td>0.499900</td>\n",
       "      <td>2.562500</td>\n",
       "      <td>3.529500</td>\n",
       "      <td>4.747900</td>\n",
       "      <td>15.000100</td>\n",
       "    </tr>\n",
       "    <tr>\n",
       "      <th>HouseAge</th>\n",
       "      <td>4128.0</td>\n",
       "      <td>28.608285</td>\n",
       "      <td>12.591854</td>\n",
       "      <td>2.000000</td>\n",
       "      <td>18.000000</td>\n",
       "      <td>29.000000</td>\n",
       "      <td>37.000000</td>\n",
       "      <td>52.000000</td>\n",
       "    </tr>\n",
       "    <tr>\n",
       "      <th>AveRooms</th>\n",
       "      <td>4128.0</td>\n",
       "      <td>5.452692</td>\n",
       "      <td>2.908733</td>\n",
       "      <td>0.888889</td>\n",
       "      <td>4.469323</td>\n",
       "      <td>5.244935</td>\n",
       "      <td>6.060412</td>\n",
       "      <td>141.909091</td>\n",
       "    </tr>\n",
       "    <tr>\n",
       "      <th>AveBedrms</th>\n",
       "      <td>4128.0</td>\n",
       "      <td>1.097004</td>\n",
       "      <td>0.512122</td>\n",
       "      <td>0.333333</td>\n",
       "      <td>1.004702</td>\n",
       "      <td>1.049367</td>\n",
       "      <td>1.099435</td>\n",
       "      <td>25.636364</td>\n",
       "    </tr>\n",
       "    <tr>\n",
       "      <th>Population</th>\n",
       "      <td>4128.0</td>\n",
       "      <td>1422.595688</td>\n",
       "      <td>1138.772944</td>\n",
       "      <td>3.000000</td>\n",
       "      <td>781.000000</td>\n",
       "      <td>1151.500000</td>\n",
       "      <td>1729.000000</td>\n",
       "      <td>28566.000000</td>\n",
       "    </tr>\n",
       "    <tr>\n",
       "      <th>AveOccup</th>\n",
       "      <td>4128.0</td>\n",
       "      <td>3.111294</td>\n",
       "      <td>9.458030</td>\n",
       "      <td>0.750000</td>\n",
       "      <td>2.441917</td>\n",
       "      <td>2.828154</td>\n",
       "      <td>3.278794</td>\n",
       "      <td>599.714286</td>\n",
       "    </tr>\n",
       "    <tr>\n",
       "      <th>Latitude</th>\n",
       "      <td>4128.0</td>\n",
       "      <td>35.673702</td>\n",
       "      <td>2.142045</td>\n",
       "      <td>32.550000</td>\n",
       "      <td>33.940000</td>\n",
       "      <td>34.290000</td>\n",
       "      <td>37.730000</td>\n",
       "      <td>41.860000</td>\n",
       "    </tr>\n",
       "    <tr>\n",
       "      <th>Longitude</th>\n",
       "      <td>4128.0</td>\n",
       "      <td>-119.617183</td>\n",
       "      <td>2.013693</td>\n",
       "      <td>-124.300000</td>\n",
       "      <td>-121.842500</td>\n",
       "      <td>-118.590000</td>\n",
       "      <td>-118.020000</td>\n",
       "      <td>-114.550000</td>\n",
       "    </tr>\n",
       "    <tr>\n",
       "      <th>AvePrice</th>\n",
       "      <td>4128.0</td>\n",
       "      <td>2.068402</td>\n",
       "      <td>1.154009</td>\n",
       "      <td>0.175000</td>\n",
       "      <td>1.193500</td>\n",
       "      <td>1.797000</td>\n",
       "      <td>2.647500</td>\n",
       "      <td>5.000010</td>\n",
       "    </tr>\n",
       "  </tbody>\n",
       "</table>\n",
       "</div>"
      ],
      "text/plain": [
       "             count         mean          std         min         25%  \\\n",
       "MedInc      4128.0     3.860883     1.900961    0.499900    2.562500   \n",
       "HouseAge    4128.0    28.608285    12.591854    2.000000   18.000000   \n",
       "AveRooms    4128.0     5.452692     2.908733    0.888889    4.469323   \n",
       "AveBedrms   4128.0     1.097004     0.512122    0.333333    1.004702   \n",
       "Population  4128.0  1422.595688  1138.772944    3.000000  781.000000   \n",
       "AveOccup    4128.0     3.111294     9.458030    0.750000    2.441917   \n",
       "Latitude    4128.0    35.673702     2.142045   32.550000   33.940000   \n",
       "Longitude   4128.0  -119.617183     2.013693 -124.300000 -121.842500   \n",
       "AvePrice    4128.0     2.068402     1.154009    0.175000    1.193500   \n",
       "\n",
       "                    50%          75%           max  \n",
       "MedInc         3.529500     4.747900     15.000100  \n",
       "HouseAge      29.000000    37.000000     52.000000  \n",
       "AveRooms       5.244935     6.060412    141.909091  \n",
       "AveBedrms      1.049367     1.099435     25.636364  \n",
       "Population  1151.500000  1729.000000  28566.000000  \n",
       "AveOccup       2.828154     3.278794    599.714286  \n",
       "Latitude      34.290000    37.730000     41.860000  \n",
       "Longitude   -118.590000  -118.020000   -114.550000  \n",
       "AvePrice       1.797000     2.647500      5.000010  "
      ]
     },
     "metadata": {},
     "output_type": "display_data"
    }
   ],
   "source": [
    "df = pd.read_csv('data/test.csv')\n",
    "\n",
    "display_all(df.describe(include='all').T)"
   ]
  },
  {
   "cell_type": "markdown",
   "metadata": {},
   "source": [
    "### Load model\n",
    "\n"
   ]
  },
  {
   "cell_type": "code",
   "execution_count": 4,
   "metadata": {},
   "outputs": [],
   "source": [
    "rf = pickle.load(open('data/RF_california.pkl', 'rb'))"
   ]
  },
  {
   "cell_type": "markdown",
   "metadata": {},
   "source": [
    "### Evaluation\n",
    "\n"
   ]
  },
  {
   "cell_type": "code",
   "execution_count": 5,
   "metadata": {},
   "outputs": [],
   "source": [
    "X = df.drop('AvePrice', axis=1).to_numpy()\n",
    "y = df['AvePrice'].to_numpy()"
   ]
  },
  {
   "cell_type": "code",
   "execution_count": 6,
   "metadata": {},
   "outputs": [
    {
     "data": {
      "text/plain": [
       "0.7989206713438753"
      ]
     },
     "execution_count": 6,
     "metadata": {},
     "output_type": "execute_result"
    }
   ],
   "source": [
    "rf.score(X, y)"
   ]
  },
  {
   "cell_type": "code",
   "execution_count": 7,
   "metadata": {},
   "outputs": [
    {
     "name": "stdout",
     "output_type": "stream",
     "text": [
      "R2: 0.7989206713438753\n",
      "Mean Absolute Error: 0.3480536395324212\n",
      "Mean Squared Error: 0.2677200077500948\n",
      "Mean Squared Log Error: 0.024296213994703275\n",
      "Root Mean Squared Error: 0.5174166674451982\n"
     ]
    }
   ],
   "source": [
    "y_pred = rf.predict(X)\n",
    "print('R2:', r2_score(y, y_pred))\n",
    "print('Mean Absolute Error:', mean_absolute_error(y, y_pred))  \n",
    "print('Mean Squared Error:', mean_squared_error(y, y_pred))\n",
    "print('Mean Squared Log Error:', mean_squared_log_error(y, y_pred))\n",
    "print('Root Mean Squared Error:', np.sqrt(mean_squared_error(y, y_pred)))"
   ]
  },
  {
   "cell_type": "markdown",
   "metadata": {},
   "source": [
    "Soit une erreur d'environ 53 mille dollars en moyenne."
   ]
  },
  {
   "cell_type": "markdown",
   "metadata": {},
   "source": [
    "## Bibliography\n",
    "\n"
   ]
  },
  {
   "cell_type": "markdown",
   "metadata": {},
   "source": [
    "### References\n",
    "\n"
   ]
  },
  {
   "cell_type": "markdown",
   "metadata": {},
   "source": [
    "\n",
    "[california.bib](california.bib)\n",
    "\n"
   ]
  }
 ],
 "metadata": {
  "kernelspec": {
   "display_name": "Python 3 (ipykernel)",
   "language": "python",
   "name": "python3"
  },
  "language_info": {
   "codemirror_mode": {
    "name": "ipython",
    "version": 3
   },
   "file_extension": ".py",
   "mimetype": "text/x-python",
   "name": "python",
   "nbconvert_exporter": "python",
   "pygments_lexer": "ipython3",
   "version": "3.9.2"
  },
  "org": null
 },
 "nbformat": 4,
 "nbformat_minor": 1
}

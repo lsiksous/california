{
 "cells": [
  {
   "cell_type": "markdown",
   "metadata": {},
   "source": [
    "Méthodes d'ensemble\n",
    "==================="
   ]
  },
  {
   "cell_type": "markdown",
   "metadata": {},
   "source": [
    "## Preamble\n",
    "\n"
   ]
  },
  {
   "cell_type": "markdown",
   "metadata": {},
   "source": [
    "### Imports\n",
    "\n"
   ]
  },
  {
   "cell_type": "code",
   "execution_count": 1,
   "metadata": {},
   "outputs": [],
   "source": [
    "%matplotlib inline\n",
    "\n",
    "import pandas as pd\n",
    "import numpy as np\n",
    "import matplotlib.pyplot as plt\n",
    "\n",
    "from collections import OrderedDict\n",
    "\n",
    "from sklearn.ensemble import RandomForestRegressor\n",
    "from sklearn.model_selection import GridSearchCV, ParameterGrid\n",
    "from sklearn.metrics import r2_score, mean_absolute_error, mean_squared_error, mean_squared_log_error, make_scorer\n",
    "\n",
    "import pickle\n",
    "\n",
    "import warnings\n",
    "warnings.filterwarnings(\"ignore\")"
   ]
  },
  {
   "cell_type": "markdown",
   "metadata": {},
   "source": [
    "### Functions\n",
    "\n"
   ]
  },
  {
   "cell_type": "code",
   "execution_count": 2,
   "metadata": {},
   "outputs": [],
   "source": [
    "# Display all\n",
    "def display_all(df):\n",
    "    with pd.option_context(\"display.max_rows\", 100, \"display.max_columns\", 100): \n",
    "        display(df)"
   ]
  },
  {
   "cell_type": "markdown",
   "metadata": {},
   "source": [
    "## Global variables"
   ]
  },
  {
   "cell_type": "code",
   "execution_count": 3,
   "metadata": {},
   "outputs": [],
   "source": [
    "RANDOM_STATE = 42"
   ]
  },
  {
   "cell_type": "markdown",
   "metadata": {},
   "source": [
    "## Model Selection\n",
    "\n"
   ]
  },
  {
   "cell_type": "markdown",
   "metadata": {},
   "source": [
    "### Load Data\n",
    "\n"
   ]
  },
  {
   "cell_type": "code",
   "execution_count": 4,
   "metadata": {},
   "outputs": [
    {
     "data": {
      "text/html": [
       "<div>\n",
       "<style scoped>\n",
       "    .dataframe tbody tr th:only-of-type {\n",
       "        vertical-align: middle;\n",
       "    }\n",
       "\n",
       "    .dataframe tbody tr th {\n",
       "        vertical-align: top;\n",
       "    }\n",
       "\n",
       "    .dataframe thead th {\n",
       "        text-align: right;\n",
       "    }\n",
       "</style>\n",
       "<table border=\"1\" class=\"dataframe\">\n",
       "  <thead>\n",
       "    <tr style=\"text-align: right;\">\n",
       "      <th></th>\n",
       "      <th>count</th>\n",
       "      <th>mean</th>\n",
       "      <th>std</th>\n",
       "      <th>min</th>\n",
       "      <th>25%</th>\n",
       "      <th>50%</th>\n",
       "      <th>75%</th>\n",
       "      <th>max</th>\n",
       "    </tr>\n",
       "  </thead>\n",
       "  <tbody>\n",
       "    <tr>\n",
       "      <th>MedInc</th>\n",
       "      <td>14447.0</td>\n",
       "      <td>3.872819</td>\n",
       "      <td>1.894668</td>\n",
       "      <td>0.499900</td>\n",
       "      <td>2.567150</td>\n",
       "      <td>3.534100</td>\n",
       "      <td>4.740750</td>\n",
       "      <td>15.000100</td>\n",
       "    </tr>\n",
       "    <tr>\n",
       "      <th>HouseAge</th>\n",
       "      <td>14447.0</td>\n",
       "      <td>28.621998</td>\n",
       "      <td>12.578362</td>\n",
       "      <td>1.000000</td>\n",
       "      <td>18.000000</td>\n",
       "      <td>29.000000</td>\n",
       "      <td>37.000000</td>\n",
       "      <td>52.000000</td>\n",
       "    </tr>\n",
       "    <tr>\n",
       "      <th>AveRooms</th>\n",
       "      <td>14447.0</td>\n",
       "      <td>5.408829</td>\n",
       "      <td>2.098612</td>\n",
       "      <td>0.846154</td>\n",
       "      <td>4.436294</td>\n",
       "      <td>5.219212</td>\n",
       "      <td>6.045171</td>\n",
       "      <td>62.422222</td>\n",
       "    </tr>\n",
       "    <tr>\n",
       "      <th>AveBedrms</th>\n",
       "      <td>14447.0</td>\n",
       "      <td>1.093358</td>\n",
       "      <td>0.376803</td>\n",
       "      <td>0.444444</td>\n",
       "      <td>1.006663</td>\n",
       "      <td>1.048936</td>\n",
       "      <td>1.099567</td>\n",
       "      <td>15.312500</td>\n",
       "    </tr>\n",
       "    <tr>\n",
       "      <th>Population</th>\n",
       "      <td>14447.0</td>\n",
       "      <td>1428.049145</td>\n",
       "      <td>1135.238659</td>\n",
       "      <td>5.000000</td>\n",
       "      <td>792.000000</td>\n",
       "      <td>1172.000000</td>\n",
       "      <td>1722.000000</td>\n",
       "      <td>35682.000000</td>\n",
       "    </tr>\n",
       "    <tr>\n",
       "      <th>AveOccup</th>\n",
       "      <td>14447.0</td>\n",
       "      <td>3.043594</td>\n",
       "      <td>10.545143</td>\n",
       "      <td>0.692308</td>\n",
       "      <td>2.427452</td>\n",
       "      <td>2.815725</td>\n",
       "      <td>3.276349</td>\n",
       "      <td>1243.333333</td>\n",
       "    </tr>\n",
       "    <tr>\n",
       "      <th>Latitude</th>\n",
       "      <td>14447.0</td>\n",
       "      <td>35.620210</td>\n",
       "      <td>2.137380</td>\n",
       "      <td>32.540000</td>\n",
       "      <td>33.930000</td>\n",
       "      <td>34.250000</td>\n",
       "      <td>37.710000</td>\n",
       "      <td>41.950000</td>\n",
       "    </tr>\n",
       "    <tr>\n",
       "      <th>Longitude</th>\n",
       "      <td>14447.0</td>\n",
       "      <td>-119.554523</td>\n",
       "      <td>2.000330</td>\n",
       "      <td>-124.350000</td>\n",
       "      <td>-121.760000</td>\n",
       "      <td>-118.480000</td>\n",
       "      <td>-118.000000</td>\n",
       "      <td>-114.310000</td>\n",
       "    </tr>\n",
       "    <tr>\n",
       "      <th>AvePrice</th>\n",
       "      <td>14447.0</td>\n",
       "      <td>2.068723</td>\n",
       "      <td>1.153981</td>\n",
       "      <td>0.149990</td>\n",
       "      <td>1.197500</td>\n",
       "      <td>1.797000</td>\n",
       "      <td>2.649000</td>\n",
       "      <td>5.000010</td>\n",
       "    </tr>\n",
       "  </tbody>\n",
       "</table>\n",
       "</div>"
      ],
      "text/plain": [
       "              count         mean          std         min         25%  \\\n",
       "MedInc      14447.0     3.872819     1.894668    0.499900    2.567150   \n",
       "HouseAge    14447.0    28.621998    12.578362    1.000000   18.000000   \n",
       "AveRooms    14447.0     5.408829     2.098612    0.846154    4.436294   \n",
       "AveBedrms   14447.0     1.093358     0.376803    0.444444    1.006663   \n",
       "Population  14447.0  1428.049145  1135.238659    5.000000  792.000000   \n",
       "AveOccup    14447.0     3.043594    10.545143    0.692308    2.427452   \n",
       "Latitude    14447.0    35.620210     2.137380   32.540000   33.930000   \n",
       "Longitude   14447.0  -119.554523     2.000330 -124.350000 -121.760000   \n",
       "AvePrice    14447.0     2.068723     1.153981    0.149990    1.197500   \n",
       "\n",
       "                    50%          75%           max  \n",
       "MedInc         3.534100     4.740750     15.000100  \n",
       "HouseAge      29.000000    37.000000     52.000000  \n",
       "AveRooms       5.219212     6.045171     62.422222  \n",
       "AveBedrms      1.048936     1.099567     15.312500  \n",
       "Population  1172.000000  1722.000000  35682.000000  \n",
       "AveOccup       2.815725     3.276349   1243.333333  \n",
       "Latitude      34.250000    37.710000     41.950000  \n",
       "Longitude   -118.480000  -118.000000   -114.310000  \n",
       "AvePrice       1.797000     2.649000      5.000010  "
      ]
     },
     "metadata": {},
     "output_type": "display_data"
    }
   ],
   "source": [
    "df = pd.read_csv('data/train.csv')\n",
    "\n",
    "display_all(df.describe(include='all').T)"
   ]
  },
  {
   "cell_type": "code",
   "execution_count": 5,
   "metadata": {},
   "outputs": [],
   "source": [
    "X = df.drop('AvePrice', axis=1).to_numpy()\n",
    "y = df['AvePrice'].to_numpy()"
   ]
  },
  {
   "cell_type": "markdown",
   "metadata": {},
   "source": [
    "### Training\n",
    "\n"
   ]
  },
  {
   "cell_type": "code",
   "execution_count": 6,
   "metadata": {},
   "outputs": [
    {
     "data": {
      "image/png": "[encoded data removed]",
      "text/plain": [
       "<Figure size 432x288 with 1 Axes>"
      ]
     },
     "metadata": {
      "needs_background": "light"
     },
     "output_type": "display_data"
    }
   ],
   "source": [
    "ensemble_rfs = [\n",
    "    (\n",
    "        \"RandomForestRegressor, max_features='sqrt'\",\n",
    "        RandomForestRegressor(\n",
    "            warm_start=True,\n",
    "            oob_score=True,\n",
    "            max_features=\"sqrt\",\n",
    "            random_state=RANDOM_STATE,\n",
    "        ),\n",
    "    ),\n",
    "    (\n",
    "        \"RandomForestRegressor, max_features='log2'\",\n",
    "        RandomForestRegressor(\n",
    "            warm_start=True,\n",
    "            max_features=\"log2\",\n",
    "            oob_score=True,\n",
    "            random_state=RANDOM_STATE,\n",
    "        ),\n",
    "    ),\n",
    "    (\n",
    "        \"RandomForestRegressor, max_features=None\",\n",
    "        RandomForestRegressor(\n",
    "            warm_start=True,\n",
    "            max_features=None,\n",
    "            oob_score=True,\n",
    "            random_state=RANDOM_STATE,\n",
    "        ),\n",
    "    ),\n",
    "]\n",
    "\n",
    "error_rate = OrderedDict((label, []) for label, _ in ensemble_rfs)\n",
    "\n",
    "# Range of `n_estimators` values to explore.\n",
    "min_estimators = 10\n",
    "max_estimators = 200\n",
    "\n",
    "for label, rf in ensemble_rfs:\n",
    "    for i in range(min_estimators, max_estimators + 1):\n",
    "        rf.set_params(n_estimators=i)\n",
    "        rf.fit(X, y)\n",
    "\n",
    "        # Record the OOB error for each `n_estimators=i` setting.\n",
    "        oob_error = 1 - rf.oob_score_\n",
    "        error_rate[label].append((i, oob_error))\n",
    "\n",
    "# Generate the \"OOB error rate\" vs. \"n_estimators\" plot.\n",
    "for label, rf_err in error_rate.items():\n",
    "    xs, ys = zip(*rf_err)\n",
    "    plt.plot(xs, ys, label=label)\n",
    "\n",
    "plt.xlim(min_estimators, max_estimators)\n",
    "plt.xlabel(\"n_estimators\")\n",
    "plt.ylabel(\"OOB error rate\")\n",
    "plt.legend(loc=\"upper right\")\n",
    "plt.show()"
   ]
  },
  {
   "cell_type": "code",
   "execution_count": 7,
   "metadata": {},
   "outputs": [
    {
     "name": "stdout",
     "output_type": "stream",
     "text": [
      "OOB: 0.80473\n",
      "Grid: {'max_depth': 12, 'max_features': 'log2', 'max_samples': 0.8, 'n_estimators': 400, 'oob_score': True}\n"
     ]
    }
   ],
   "source": [
    "rf = RandomForestRegressor(RANDOM_STATE)\n",
    "\n",
    "grid = {\n",
    "    'n_estimators': [400, 800],\n",
    "    'max_samples': [0.8, 1],\n",
    "    'max_features': ['log2'],\n",
    "    'max_depth' : [6,8,10,12],\n",
    "    'oob_score': [True]\n",
    "}\n",
    "\n",
    "best_score = 0\n",
    "for g in ParameterGrid(grid):\n",
    "    rf.set_params(**g)\n",
    "    rf.fit(X,y)\n",
    "    if rf.oob_score_ > best_score:\n",
    "        best_score = rf.oob_score_\n",
    "        best_grid = g\n",
    "\n",
    "print(\"OOB: %0.5f\" % best_score) \n",
    "print(\"Grid:\", best_grid)"
   ]
  },
  {
   "cell_type": "code",
   "execution_count": 8,
   "metadata": {},
   "outputs": [
    {
     "data": {
      "text/plain": [
       "RandomForestRegressor(max_depth=12, max_features='log2', max_samples=0.8,\n",
       "                      n_estimators=400, oob_score=True)"
      ]
     },
     "execution_count": 8,
     "metadata": {},
     "output_type": "execute_result"
    }
   ],
   "source": [
    "rf.set_params(**best_grid)\n",
    "rf.fit(X,y)"
   ]
  },
  {
   "cell_type": "code",
   "execution_count": 9,
   "metadata": {},
   "outputs": [
    {
     "name": "stdout",
     "output_type": "stream",
     "text": [
      "R2: 0.9063774656241311\n",
      "Mean Squared Error: 0.25114373410877244\n",
      "Mean Squared Log Error: 0.01204357802523679\n",
      "Root Mean Squared Error: 0.35308049087021687\n"
     ]
    }
   ],
   "source": [
    "y_pred = rf.predict(X)\n",
    "r2 = r2_score(y, y_pred)\n",
    "print('R2:', r2)\n",
    "mae = mean_absolute_error(y, y_pred)\n",
    "print('Mean Squared Error:', mae)\n",
    "msle = mean_squared_log_error(y, y_pred)\n",
    "print('Mean Squared Log Error:', msle)\n",
    "rmse = np.sqrt(mean_squared_error(y, y_pred))\n",
    "print('Root Mean Squared Error:', rmse)"
   ]
  },
  {
   "cell_type": "code",
   "execution_count": 10,
   "metadata": {},
   "outputs": [
    {
     "data": {
      "image/png": "[encoded data removed]",
      "text/plain": [
       "<Figure size 432x288 with 1 Axes>"
      ]
     },
     "metadata": {
      "needs_background": "light"
     },
     "output_type": "display_data"
    }
   ],
   "source": [
    "plt.plot(y,y_pred,'o')\n",
    "plt.plot(y, y, \"r-\", label= \"y=x\")\n",
    "plt.title('')\n",
    "plt.legend(f'rmse = {rmse}')\n",
    "plt.xlabel('actual')\n",
    "plt.ylabel('predict')\n",
    "plt.plot\n",
    "plt.show()"
   ]
  },
  {
   "cell_type": "markdown",
   "metadata": {},
   "source": [
    "### Save best model\n",
    "\n"
   ]
  },
  {
   "cell_type": "code",
   "execution_count": 11,
   "metadata": {},
   "outputs": [],
   "source": [
    "with open('data/RF_california.pkl', 'wb') as file:\n",
    "    pickle.dump(rf, file)"
   ]
  },
  {
   "cell_type": "markdown",
   "metadata": {},
   "source": [
    "## Bibliography\n",
    "\n"
   ]
  },
  {
   "cell_type": "markdown",
   "metadata": {},
   "source": [
    "### References"
   ]
  },
  {
   "cell_type": "markdown",
   "metadata": {},
   "source": [
    "\n",
    "[california.bib](california.bib)\n",
    "\n"
   ]
  }
 ],
 "metadata": {
  "kernelspec": {
   "display_name": "Python 3 (ipykernel)",
   "language": "python",
   "name": "python3"
  },
  "language_info": {
   "codemirror_mode": {
    "name": "ipython",
    "version": 3
   },
   "file_extension": ".py",
   "mimetype": "text/x-python",
   "name": "python",
   "nbconvert_exporter": "python",
   "pygments_lexer": "ipython3",
   "version": "3.9.2"
  },
  "org": null
 },
 "nbformat": 4,
 "nbformat_minor": 1
}
